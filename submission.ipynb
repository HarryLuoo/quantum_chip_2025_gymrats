{
 "cells": [
  {
   "cell_type": "markdown",
   "id": "c744a956",
   "metadata": {},
   "source": [
    "# Simulating and Mitigating Qubit Crosstalk for an isolated 3-qubit system\n",
    "This notebook analyzes a three-qubit system to demonstrate the effects of crosstalk during a gate operation and its mitigation using a compensation pulse.\n",
    "\n",
    "## Part 1: Simulating Qubit Crosstalk without Compensation\n",
    "\n",
    "In this section, we simulate a standard scenario where a drive pulse on a target qubit induces unwanted interactions on its neighbors.\n",
    "\n",
    "### 1.1 System and Pulse Parameters\n",
    "We define a system of $N=3$ qubits. The key physical parameters are the qubit frequency $\\omega_q$, the Rabi frequency $\\Omega$ of the drive pulse on the target qubit, and the inherent crosstalk coupling strength $J$. The pulse itself is a Gaussian envelope centered at $t_0$ with a temporal width of $\\tau$."
   ]
  },
  {
   "cell_type": "code",
   "execution_count": 1,
   "id": "4e5bf5c2",
   "metadata": {},
   "outputs": [],
   "source": [
    "import numpy as np\n",
    "import qutip as qt\n",
    "import matplotlib.pyplot as plt\n",
    "from matplotlib.animation import FuncAnimation\n",
    "from mpl_toolkits.mplot3d import Axes3D  # for 3D Bloch\n"
   ]
  },
  {
   "cell_type": "code",
   "execution_count": 6,
   "id": "2ff772b5",
   "metadata": {},
   "outputs": [],
   "source": [
    "# --- 1. SYSTEM & PULSE DEFINITIONS ---\n",
    "N = 3\n",
    "target = 1\n",
    "w_q     = 5.0 * 2*np.pi    # qubit freq (rad/ns)\n",
    "Omega   = 10.0 * 2*np.pi   # main drive Rabi\n",
    "J       = 0.1 * Omega      # inherent crosstalk coupling\n",
    "\n",
    "t_total = 100.0\n",
    "t0, tau = 50.0, 5.0\n",
    "\n",
    "def drive_env(t, args):\n",
    "    return np.exp(- (t-args['t0'])**2 / (2*args['tau']**2))\n",
    "\n",
    "# Initial state: all qubits in the ground state |000>\n",
    "psi0  = qt.tensor(*[qt.basis(2,0) for _ in range(N)])\n",
    "# Time list for the simulation\n",
    "tlist = np.linspace(0, t_total, 201)\n",
    "# Arguments for the time-dependent pulse envelopes\n",
    "args  = {'t0': t0, 'tau': tau}\n",
    "\n"
   ]
  },
  {
   "cell_type": "markdown",
   "id": "bcbc25e5",
   "metadata": {},
   "source": [
    "We also design a visualization helper function to generate the Bloch sphere animation from the simulation results."
   ]
  },
  {
   "cell_type": "code",
   "execution_count": 14,
   "id": "5dbcfa31",
   "metadata": {},
   "outputs": [],
   "source": [
    "from IPython.display import Image, display \n",
    "\n",
    "def create_bloch_animation(result_obj, title_suffix, filename_suffix,\n",
    "                           main_pulse_vals, comp_pulse_vals=None, show_comp_pulse=False):\n",
    "    \"\"\"\n",
    "    Generates and saves a Bloch sphere animation from QuTiP simulation results,\n",
    "    and displays it in the Jupyter Notebook.\n",
    "    \"\"\"\n",
    "    times = result_obj.times\n",
    "    \n",
    "    # Compute Bloch expectations\n",
    "    exp_x = [qt.expect(sx[i], result_obj.states) for i in range(N)]\n",
    "    exp_y = [qt.expect(sy[i], result_obj.states) for i in range(N)]\n",
    "    exp_z = [qt.expect(sz[i], result_obj.states) for i in range(N)]\n",
    "\n",
    "    fig = plt.figure(figsize=(12,8))\n",
    "    \n",
    "    # Top panel: pulses\n",
    "    ax_p = fig.add_subplot(2, 1, 1)\n",
    "    ax_p.plot(times, main_pulse_vals, label='Main Drive Pulse', color='tab:blue', lw=3)\n",
    "    ax_p.fill_between(times, 0, main_pulse_vals, color='tab:blue', alpha=0.1)\n",
    "    \n",
    "    if show_comp_pulse and comp_pulse_vals is not None:\n",
    "        ax_p.plot(times, comp_pulse_vals, '--', label='Compensation Pulse', color='tab:orange', lw=3)\n",
    "        ax_p.fill_between(times, 0, comp_pulse_vals, color='tab:orange', alpha=0.1)\n",
    "    \n",
    "    ax_p.set_ylabel('Normalized Amplitude', fontsize=12)\n",
    "    ax_p.set_xlim(0, t_total)\n",
    "    ax_p.set_title(f\"Pulse Sequence and Qubit Evolution {title_suffix}\", fontsize=14)\n",
    "    ax_p.legend(loc='upper right', fontsize=11)\n",
    "    pulse_marker = ax_p.axvline(0, color='k', lw=2)\n",
    "\n",
    "    # Bottom panels: Bloch spheres\n",
    "    axes, colors, arts = [], ['green','brown','blue'], []\n",
    "    for i in range(N):\n",
    "        ax = fig.add_subplot(2, N, N + i + 1, projection='3d')\n",
    "        ax.set_box_aspect((1,1,1))\n",
    "        ax.set_title(f\"Qubit {i}\")\n",
    "        ax.set_xlim(-1,1); ax.set_ylim(-1,1); ax.set_zlim(-1,1)\n",
    "        ax.set_xlabel('X'); ax.set_ylabel('Y'); ax.set_zlabel('Z')\n",
    "        \n",
    "        # Draw Bloch sphere wireframe\n",
    "        u, v = np.linspace(0,2*np.pi,60), np.linspace(0, np.pi,30)\n",
    "        x_sphere = np.outer(np.cos(u), np.sin(v))\n",
    "        y_sphere = np.outer(np.sin(u), np.sin(v))\n",
    "        z_sphere = np.outer(np.ones_like(u), np.cos(v))\n",
    "        ax.plot_wireframe(x_sphere, y_sphere, z_sphere, color='lightgray', alpha=0.3)\n",
    "        axes.append(ax)\n",
    "\n",
    "    def update(k):\n",
    "        pulse_marker.set_xdata([times[k], times[k]])\n",
    "        \n",
    "        for a in arts: a.remove()\n",
    "        arts.clear()\n",
    "        \n",
    "        for i, ax in enumerate(axes):\n",
    "            x, y, z = exp_x[i][k], exp_y[i][k], exp_z[i][k]\n",
    "            a = ax.quiver(0,0,0, x,y,z, color=colors[i], lw=2.5, arrow_length_ratio=0.15)\n",
    "            arts.append(a)\n",
    "        return [pulse_marker] + arts\n",
    "\n",
    "    ani = FuncAnimation(fig, update, frames=len(times), blit=False, interval=50)\n",
    "    \n",
    "    gif_filename = f'crosstalk_{filename_suffix}_anim.gif'\n",
    "    print(f\"Saving animation to {gif_filename}...\")\n",
    "    ani.save(gif_filename, writer='pillow', fps=20)\n",
    "    print(\"GIF saved successfully.\")\n",
    "    plt.close(fig)\n",
    "    \n",
    "    print(f\"Displaying {gif_filename} in notebook:\")\n",
    "    display(Image(url=gif_filename))\n"
   ]
  },
  {
   "cell_type": "markdown",
   "id": "40c98d4a",
   "metadata": {},
   "source": [
    "### 1.2 The System Hamiltonian\n",
    "The total Hamiltonian $H(t)$ governs the coherent evolution of the system. It is composed of a static drift term $H_0$ and a time-dependent drive term that includes both the intended control and the unwanted crosstalk.\n",
    "\n",
    "#### Drift Hamiltonian ($H_0$)\n",
    "\n",
    "This term describes the static energy of the three non-interacting qubits.\n",
    "$$H_0 = H_{\\mathrm{drift}} = -\\frac{1}{2} \\sum_{i=0}^{2} \\omega_q \\, \\sigma_z^{(i)}$$\n",
    "This is implemented by summing the individual $\\sigma_z$ operators."
   ]
  },
  {
   "cell_type": "code",
   "execution_count": 8,
   "id": "99d9cdf3",
   "metadata": {},
   "outputs": [],
   "source": [
    "# Pauli operators\n",
    "sx = [qt.tensor(*([qt.qeye(2)]*i + [qt.sigmax()] + [qt.qeye(2)]*(N-1-i)))\n",
    "      for i in range(N)]\n",
    "sy = [qt.tensor(*([qt.qeye(2)]*i + [qt.sigmay()] + [qt.qeye(2)]*(N-1-i)))\n",
    "      for i in range(N)]\n",
    "sz = [qt.tensor(*([qt.qeye(2)]*i + [qt.sigmaz()] + [qt.qeye(2)]*(N-1-i)))\n",
    "      for i in range(N)]\n",
    "sm = [qt.tensor(*([qt.qeye(2)]*i + [qt.sigmam()] + [qt.qeye(2)]*(N-1-i)))\n",
    "      for i in range(N)]\n",
    "H0 = sum(-0.5*w_q*sz[i] for i in range(N))\n"
   ]
  },
  {
   "cell_type": "markdown",
   "id": "89091cac",
   "metadata": {},
   "source": [
    "#### Drive and Crosstalk Hamiltonian\n",
    "\n",
    "The time-dependent part of the Hamiltonian is modulated by the Gaussian envelope drive_env(t). It consists of the intended drive on the target qubit ($H_{\\mathrm{drive}}$) and the resulting crosstalk interaction ($H_{\\mathrm{xtlk}}$).\n",
    "$$H_{\\mathrm{drive}} = \\Omega \\, \\sigma_x^{(\\text{target})}$$\n",
    "$$H_{\\mathrm{xtlk}} = J \\left( \\sigma_x^{(\\text{target}-1)}\\sigma_x^{(\\text{target})} + \\sigma_x^{(\\text{target})}\\sigma_x^{(\\text{target}+1)} \\right)$$\n",
    "The total time-dependent Hamiltonian for the uncompensated system is:\n",
    "$$H(t) = H_0 + \\left( H_{\\mathrm{drive}} + H_{\\mathrm{xtlk}} \\right) f(t),$$\n",
    "where $ f(t) $ is a time function representing the activation of pulses.\n",
    "\n",
    "This is constructed in QuTiP as a list, where the second element is a list containing the time-dependent operator and its corresponding envelope function."
   ]
  },
  {
   "cell_type": "code",
   "execution_count": 4,
   "id": "dc290f2f",
   "metadata": {},
   "outputs": [],
   "source": [
    "H_drive =  Omega   * sx[target]\n",
    "H_xtlk  =  J       * (sx[target-1]*sx[target] + sx[target]*sx[target+1])\n",
    "\n",
    "H = [\n",
    "    H0,\n",
    "    [H_drive + H_xtlk, drive_env]\n",
    "\n",
    "]\n"
   ]
  },
  {
   "cell_type": "markdown",
   "id": "16cfbe70",
   "metadata": {},
   "source": [
    "#### Isolated System Evolution\n",
    "Since the system is isolated, its state remains pure for all time. The evolution of the state vector $\\vert \\psi(t) \\rangle$ is governed by the time-dependent Schrödinger equation:\n",
    "$$\\boxed{\n",
    "i \\frac{d}{dt}\\vert \\psi(t) \\rangle = H(t) \\vert \\psi(t) \\rangle\n",
    "}$$\n",
    "We initialize the sysetm in the state $\\vert \\psi_0 \\rangle = \\vert 000 \\rangle$, and solve the evolution using `qutip.seevolve`. \n",
    "\n"
   ]
  },
  {
   "cell_type": "code",
   "execution_count": 10,
   "id": "11986056",
   "metadata": {},
   "outputs": [
    {
     "name": "stdout",
     "output_type": "stream",
     "text": [
      "Running isolated simulation (uncompensated)...\n",
      "Done.\n"
     ]
    }
   ],
   "source": [
    "psi0  = qt.tensor(*[qt.basis(2,0) for _ in range(N)])\n",
    "tlist = np.linspace(0, t_total, 201)\n",
    "args  = {'t0': t0, 'tau': tau}\n",
    "\n",
    "print(\"Running isolated simulation (uncompensated)...\")\n",
    "result_uncomp = qt.sesolve(H, psi0, tlist, args=args)\n",
    "print(\"Done.\")\n",
    "\n"
   ]
  },
  {
   "cell_type": "markdown",
   "id": "60b02ae2",
   "metadata": {},
   "source": [
    "We now use the helper function to visualize the results."
   ]
  },
  {
   "cell_type": "code",
   "execution_count": 13,
   "id": "9d8d057c",
   "metadata": {},
   "outputs": [
    {
     "name": "stdout",
     "output_type": "stream",
     "text": [
      "Saving animation to crosstalk_uncompensated_anim.gif...\n",
      "GIF saved successfully.\n",
      "Displaying crosstalk_uncompensated_anim.gif in notebook:\n"
     ]
    },
    {
     "data": {
      "text/html": [
       "<img src=\"crosstalk_uncompensated_anim.gif\"/>"
      ],
      "text/plain": [
       "<IPython.core.display.Image object>"
      ]
     },
     "metadata": {},
     "output_type": "display_data"
    }
   ],
   "source": [
    "# Pre-calculate the main pulse values for plotting\n",
    "main_pulse_vals = drive_env(tlist, args)\n",
    "\n",
    "create_bloch_animation(\n",
    "    result_uncomp,\n",
    "    title_suffix=\"without Compensation\",\n",
    "    filename_suffix=\"uncompensated\",\n",
    "    main_pulse_vals=main_pulse_vals,\n",
    "    show_comp_pulse=False # No compensation pulse in this visualization\n",
    ")\n"
   ]
  },
  {
   "cell_type": "markdown",
   "id": "36ca2adf",
   "metadata": {},
   "source": [
    "**Observation:**\n",
    "\n",
    " The animation shows the state vector of the central qubit (1) rotating significantly on its Bloch sphere, indicating the successful application of the drive. Crucially, the Bloch vectors for the neighbor qubits (0 and 2) is also be perturbed, precessing on their respective spheres and moving away from their initial position at the north pole ($\\langle\\sigma_z\\rangle=1$). This demonstrates the unwanted effect of crosstalk. Since the system is isolated, the length of each Bloch vector will remain exactly 1, indicating a pure state."
   ]
  },
  {
   "cell_type": "markdown",
   "id": "23dfe6f9",
   "metadata": {},
   "source": [
    "---\n",
    "## Part 2: Mitigating crosstalk using compensation pulse\n",
    "\n",
    "Now, we introduce a compensation pulse designed to actively cancel the unwanted crosstalk interaction in real-time.\n",
    "### 2.1 The Compensation Hamiltonian\n",
    "The core idea is to introduce an additional drive term, $H_{\\mathrm{comp}}$, that has the same operator form as the crosstalk Hamiltonian but with an opposite sign. For ideal cancellation, the compensation drive amplitude $\\Omega_c$ is set equal to the crosstalk coupling strength $J$.\n",
    "$$H_{\\mathrm{comp}} = -\\Omega_c \\left( \\sigma_x^{(\\text{target}-1)}\\sigma_x^{(\\text{target})} + \\sigma_x^{(\\text{target})}\\sigma_x^{(\\text{target}+1)} \\right)$$\n",
    "\n"
   ]
  },
  {
   "cell_type": "code",
   "execution_count": 15,
   "id": "836d6b79",
   "metadata": {},
   "outputs": [],
   "source": [
    "# Compensation pulse amplitude is set equal to the crosstalk coupling J\n",
    "Omega_c = J\n",
    "\n",
    "# Compensation Hamiltonian term\n",
    "H_comp  = -Omega_c * (sx[target-1]*sx[target] + sx[target]*sx[target+1])\n",
    "\n",
    "# Define a separate envelope function for clarity, though it's identical to drive_env\n",
    "def comp_env(t, args):\n",
    "    return np.exp(- (t-args['t0'])**2 / (2*args['tau']**2))\n"
   ]
  },
  {
   "cell_type": "markdown",
   "id": "3ac5edc3",
   "metadata": {},
   "source": [
    "### 2.2 The Full Hamiltonian with Compensation\n",
    "The total Hamiltonian now includes the compensation term. When added to the solver, the $H_{\\mathrm{xtlk}}$ and $H_{\\mathrm{comp}}$ terms will ideally destructively interfere, leaving only the intended drive on the target qubit.\n",
    "\n",
    "$$H_{\\mathrm{compensated}}(t) = H_0 + \\left( H_{\\mathrm{drive}} + H_{\\mathrm{xtlk}} \\right) f(t) + H_{\\mathrm{comp}} f(t),$$\n",
    "where $ f(t) $ is a time function representing the activation of pulses. Since $H_{\\mathrm{xtlk}} + H_{\\mathrm{comp}} = 0$ when $\\Omega_c = J$, the effective Hamiltonian becomes:\n",
    "$$\\boxed{\n",
    "H_{\\mathrm{compensated}}(t) = H_0 + H_{\\mathrm{drive}} f(t)\n",
    "}$$"
   ]
  },
  {
   "cell_type": "code",
   "execution_count": 17,
   "id": "9dfbc64b",
   "metadata": {},
   "outputs": [],
   "source": [
    "# Total Hamiltonian for the compensated case\n",
    "H_compensated = [\n",
    "    H0,\n",
    "    [H_drive + H_xtlk, drive_env], # Main drive and crosstalk\n",
    "    [H_comp,             comp_env]   # Compensation pulse\n",
    "]\n"
   ]
  },
  {
   "cell_type": "markdown",
   "id": "43039235",
   "metadata": {},
   "source": [
    "We run the simulation again using sesolve with the new, compensated Hamiltonian."
   ]
  },
  {
   "cell_type": "code",
   "execution_count": 18,
   "id": "37248500",
   "metadata": {},
   "outputs": [
    {
     "name": "stdout",
     "output_type": "stream",
     "text": [
      "Running isolated simulation (compensated)...\n",
      "Done.\n"
     ]
    }
   ],
   "source": [
    "print(\"Running isolated simulation (compensated)...\")\n",
    "result_comp = qt.sesolve(H_compensated, psi0, tlist, args=args)\n",
    "print(\"Done.\")\n"
   ]
  },
  {
   "cell_type": "markdown",
   "id": "ddbb3f8f",
   "metadata": {},
   "source": [
    "### 2.4 Visualization of Compensated Crosstalk\n",
    "Finally, we visualize the results with the compensation pulse active."
   ]
  },
  {
   "cell_type": "code",
   "execution_count": 19,
   "id": "5fd21bbb",
   "metadata": {},
   "outputs": [
    {
     "name": "stdout",
     "output_type": "stream",
     "text": [
      "Saving animation to crosstalk_compensated_anim.gif...\n",
      "GIF saved successfully.\n",
      "Displaying crosstalk_compensated_anim.gif in notebook:\n"
     ]
    },
    {
     "data": {
      "text/html": [
       "<img src=\"crosstalk_compensated_anim.gif\"/>"
      ],
      "text/plain": [
       "<IPython.core.display.Image object>"
      ]
     },
     "metadata": {},
     "output_type": "display_data"
    }
   ],
   "source": [
    "# Pre-calculate compensation pulse values for plotting\n",
    "comp_pulse_vals = -Omega_c / Omega * main_pulse_vals # Scale for plotting relative to main pulse\n",
    "\n",
    "create_bloch_animation(\n",
    "    result_comp,\n",
    "    title_suffix=\"with Compensation\",\n",
    "    filename_suffix=\"compensated\",\n",
    "    main_pulse_vals=main_pulse_vals,\n",
    "    comp_pulse_vals=comp_pulse_vals,\n",
    "    show_comp_pulse=True # Plot the compensation pulse in this visualization\n",
    ")\n"
   ]
  },
  {
   "cell_type": "markdown",
   "id": "55c80930",
   "metadata": {},
   "source": [
    "**Observation**: The animation shows a dramatic improvement for the neighbor qubits.\n",
    "\n",
    "- Target Qubit (1): Its evolution should be identical to the uncompensated case, as the intended drive $H_{\\mathrm{control}}$ is unaffected.\n",
    "\n",
    "- Neighbor Qubits (0 and 2): Due to the cancellation of $H_{\\mathrm{xtlk}}$ by $H_{\\mathrm{comp}}$, the unwanted drive on the neighbors is completely suppressed. Their state vectors should now remain perfectly stationary at the north pole of the Bloch sphere ($\\langle\\sigma_z\\rangle=1$), demonstrating ideal crosstalk mitigation in this isolated system."
   ]
  }
 ],
 "metadata": {
  "kernelspec": {
   "display_name": "Python 3",
   "language": "python",
   "name": "python3"
  },
  "language_info": {
   "codemirror_mode": {
    "name": "ipython",
    "version": 3
   },
   "file_extension": ".py",
   "mimetype": "text/x-python",
   "name": "python",
   "nbconvert_exporter": "python",
   "pygments_lexer": "ipython3",
   "version": "3.13.2"
  }
 },
 "nbformat": 4,
 "nbformat_minor": 5
}
